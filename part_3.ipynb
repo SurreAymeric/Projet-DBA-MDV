{
 "cells": [
  {
   "cell_type": "markdown",
   "metadata": {},
   "source": [
    "# Question 1\n",
    "\n",
    "Création de la table user_for_comparison et insertion des données\n"
   ]
  },
  {
   "cell_type": "markdown",
   "metadata": {},
   "source": [
    "# Question 2\n",
    "\n",
    "Création de la table user_for_comparison et insertion des données\n"
   ]
  },
  {
   "cell_type": "code",
   "execution_count": 5,
   "metadata": {},
   "outputs": [],
   "source": [
    "import psycopg2\n",
    "from faker import Faker\n",
    "import random\n",
    "from datetime import datetime, timedelta\n",
    "import os\n",
    "from dotenv import load_dotenv\n",
    "\n",
    "# Ajouter aux variables environnementales celles contenues dans le .env\n",
    "load_dotenv(\".env\")\n",
    "\n",
    "USER = os.environ.get(\"POSTGRESQL_LOCAL_USER\")\n",
    "PASSWORD = os.environ.get(\"POSTGRESQL_LOCAL_PASSWORD\")\n",
    "\n",
    "# Connexion à PostgreSQL\n",
    "conn = psycopg2.connect(user=USER, password=PASSWORD, host=\"localhost\", port=\"5432\", dbname=\"app_auth\")\n",
    "conn.autocommit = True\n",
    "cur = conn.cursor()\n",
    "\n",
    "# Création de la table user_for_comparison\n",
    "cur.execute(\"\"\"\n",
    "CREATE TABLE IF NOT EXISTS user_for_comparison (\n",
    "    user_id SERIAL PRIMARY KEY,\n",
    "    firstname VARCHAR(255),\n",
    "    lastname VARCHAR(255),\n",
    "    email VARCHAR(255) UNIQUE,\n",
    "    username VARCHAR(255) UNIQUE,\n",
    "    password VARCHAR(255),\n",
    "    created_at TIMESTAMP DEFAULT CURRENT_TIMESTAMP\n",
    ");\n",
    "\n",
    "ALTER TABLE user_for_comparison\n",
    "ADD CONSTRAINT username_length_check CHECK (LENGTH(username) > 8),\n",
    "ADD CONSTRAINT password_length_check CHECK (LENGTH(password) > 8);\n",
    "\"\"\")\n",
    "\n",
    "# Initialiser Faker\n",
    "fake = Faker()\n",
    "\n",
    "# Ensemble pour suivre les emails et usernames uniques\n",
    "used_emails = set()\n",
    "used_usernames = set()\n",
    "\n",
    "# Fonction pour générer une date aléatoire entre deux dates\n",
    "def random_date(start, end):\n",
    "    return start + timedelta(\n",
    "        seconds=random.randint(0, int((end - start).total_seconds())),\n",
    "    )\n",
    "\n",
    "# Dates de début et de fin\n",
    "start_date = datetime(2023, 1, 1)\n",
    "end_date = datetime(2023, 6, 30)\n",
    "\n",
    "# Générer et insérer 100000 utilisateurs\n",
    "for _ in range(100000):\n",
    "    firstname = fake.first_name()\n",
    "    lastname = fake.last_name()\n",
    "    email = f\"{firstname.lower()}.{lastname.lower()}@example.com\"\n",
    "    while email in used_emails:\n",
    "        email = f\"{firstname.lower()}.{lastname.lower()}{random.randint(1, 99)}@example.com\"\n",
    "    used_emails.add(email)\n",
    "\n",
    "    username = f\"{firstname.lower()}{lastname.lower()}{random.randint(100, 999)}\"\n",
    "    while username in used_usernames or len(username) <= 8:\n",
    "        username = f\"{firstname.lower()}{lastname.lower()}{random.randint(1000, 9999)}\"\n",
    "    used_usernames.add(username)\n",
    "\n",
    "    password = fake.password(length=random.randint(9, 12))\n",
    "    created_at = random_date(start_date, end_date).strftime(\"%Y-%m-%d\")\n",
    "\n",
    "    # Préparer et exécuter la requête SQL d'insertion\n",
    "    try:\n",
    "        query = \"\"\"\n",
    "        INSERT INTO user_for_comparison (firstname, lastname, email, username, password, created_at)\n",
    "        VALUES (%s, %s, %s, %s, %s, %s);\n",
    "        \"\"\"\n",
    "        cur.execute(query, (firstname, lastname, email, username, password, created_at))\n",
    "    except psycopg2.errors.UniqueViolation:\n",
    "        # Ignorer l'insertion en cas de violation de l'unicité\n",
    "        continue\n",
    "\n",
    "# Valider les insertions\n",
    "conn.commit()\n",
    "\n",
    "# Fermer la connexion\n",
    "cur.close()\n",
    "conn.close()\n"
   ]
  },
  {
   "cell_type": "markdown",
   "metadata": {},
   "source": [
    "# Question 2\n",
    "\n",
    "Mesurer le temps d'exécution"
   ]
  },
  {
   "cell_type": "code",
   "execution_count": 11,
   "metadata": {},
   "outputs": [
    {
     "name": "stdout",
     "output_type": "stream",
     "text": [
      "Username: philipstewart294, Execution Time: 0.005005836486816406 seconds\n",
      "Username: theresasmith452, Execution Time: 0.0009968280792236328 seconds\n",
      "Username: melissajohnson382, Execution Time: 0.0 seconds\n"
     ]
    }
   ],
   "source": [
    "import psycopg2\n",
    "import time\n",
    "import os\n",
    "from dotenv import load_dotenv\n",
    "\n",
    "# Ajouter aux variables environnementales celles contenues dans le .env\n",
    "load_dotenv(\".env\")\n",
    "\n",
    "USER = os.environ.get(\"POSTGRESQL_LOCAL_USER\")\n",
    "PASSWORD = os.environ.get(\"POSTGRESQL_LOCAL_PASSWORD\")\n",
    "\n",
    "# Connexion à PostgreSQL\n",
    "conn = psycopg2.connect(user=USER, password=PASSWORD, host=\"localhost\", port=\"5432\", dbname=\"app_auth\")\n",
    "cur = conn.cursor()\n",
    "\n",
    "# Liste de quelques usernames à tester\n",
    "usernames = ['philipstewart294', 'theresasmith452', 'melissajohnson382'] # Remplacer par des usernames réels de la base de données\n",
    "\n",
    "# Mesurer le temps d'exécution pour chaque username\n",
    "for username in usernames:\n",
    "    start_time = time.time() # Commencer le chronomètre\n",
    "\n",
    "    cur.execute(\"SELECT * FROM user_for_comparison WHERE username = %s\", (username,))\n",
    "    result = cur.fetchone()\n",
    "\n",
    "    end_time = time.time() # Arrêter le chronomètre\n",
    "    execution_time = end_time - start_time # Calculer le temps d'exécution\n",
    "\n",
    "    print(f\"Username: {username}, Execution Time: {execution_time} seconds\")\n",
    "\n",
    "# Fermer la connexion\n",
    "cur.close()\n",
    "conn.close()"
   ]
  },
  {
   "cell_type": "markdown",
   "metadata": {},
   "source": [
    "# Question 3\n",
    "\n",
    "Index sur la colone username"
   ]
  },
  {
   "cell_type": "code",
   "execution_count": 12,
   "metadata": {},
   "outputs": [],
   "source": [
    "import psycopg2\n",
    "import os\n",
    "from dotenv import load_dotenv\n",
    "\n",
    "# Ajouter aux variables environnementales celles contenues dans le .env\n",
    "load_dotenv(\".env\")\n",
    "\n",
    "USER = os.environ.get(\"POSTGRESQL_LOCAL_USER\")\n",
    "PASSWORD = os.environ.get(\"POSTGRESQL_LOCAL_PASSWORD\")\n",
    "\n",
    "# Connexion à PostgreSQL\n",
    "conn = psycopg2.connect(user=USER, password=PASSWORD, host=\"localhost\", port=\"5432\", dbname=\"app_auth\")\n",
    "cur = conn.cursor()\n",
    "\n",
    "# Créer un index sur la colonne username\n",
    "cur.execute(\"CREATE INDEX IF NOT EXISTS idx_username ON user_for_comparison (username);\")\n",
    "\n",
    "# Valider la création de l'index\n",
    "conn.commit()\n",
    "\n",
    "# Fermer la connexion\n",
    "cur.close()\n",
    "conn.close()\n"
   ]
  },
  {
   "cell_type": "markdown",
   "metadata": {},
   "source": [
    "Test du temps d'execution"
   ]
  },
  {
   "cell_type": "code",
   "execution_count": 14,
   "metadata": {},
   "outputs": [
    {
     "name": "stdout",
     "output_type": "stream",
     "text": [
      "Username: philipstewart294, Execution Time After Indexing: 0.005997657775878906 seconds\n",
      "Username: theresasmith452, Execution Time After Indexing: 0.0 seconds\n",
      "Username: melissajohnson382, Execution Time After Indexing: 0.0010025501251220703 seconds\n"
     ]
    }
   ],
   "source": [
    "import time\n",
    "\n",
    "# Connexion à PostgreSQL\n",
    "conn = psycopg2.connect(user=USER, password=PASSWORD, host=\"localhost\", port=\"5432\", dbname=\"app_auth\")\n",
    "cur = conn.cursor()\n",
    "\n",
    "# Liste de quelques usernames à tester (assurez-vous qu'ils existent dans votre base de données)\n",
    "usernames = ['philipstewart294', 'theresasmith452', 'melissajohnson382']  # Remplacer par des usernames réels\n",
    "\n",
    "# Mesurer le temps d'exécution pour chaque username\n",
    "for username in usernames:\n",
    "    start_time = time.time()  # Commencer le chronomètre\n",
    "\n",
    "    cur.execute(\"SELECT * FROM user_for_comparison WHERE username = %s\", (username,))\n",
    "    result = cur.fetchone()\n",
    "\n",
    "    end_time = time.time()  # Arrêter le chronomètre\n",
    "    execution_time = end_time - start_time  # Calculer le temps d'exécution\n",
    "\n",
    "    print(f\"Username: {username}, Execution Time After Indexing: {execution_time} seconds\")\n",
    "\n",
    "# Fermer la connexion\n",
    "cur.close()\n",
    "conn.close()\n"
   ]
  }
 ],
 "metadata": {
  "kernelspec": {
   "display_name": "venv",
   "language": "python",
   "name": "python3"
  },
  "language_info": {
   "name": "python",
   "version": "3.11.2"
  }
 },
 "nbformat": 4,
 "nbformat_minor": 2
}
