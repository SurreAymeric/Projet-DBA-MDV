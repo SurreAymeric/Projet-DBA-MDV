{
 "cells": [
  {
   "cell_type": "code",
   "execution_count": 12,
   "metadata": {},
   "outputs": [
    {
     "ename": "ForeignKeyViolation",
     "evalue": "ERREUR:  une instruction insert ou update sur la table « username_history_from_app » viole la contrainte de clé\nétrangère « username_history_from_app_user_id_fkey »\nDETAIL:  La clé (user_id)=(101) n'est pas présente dans la table « user_table ».\n",
     "output_type": "error",
     "traceback": [
      "\u001b[1;31m---------------------------------------------------------------------------\u001b[0m",
      "\u001b[1;31mForeignKeyViolation\u001b[0m                       Traceback (most recent call last)",
      "\u001b[1;32mc:\\Users\\aymer\\Documents\\LiveCampus\\DBA\\Projet-DBA-MDV\\part_4_3.ipynb Cell 1\u001b[0m line \u001b[0;36m4\n\u001b[0;32m     <a href='vscode-notebook-cell:/c%3A/Users/aymer/Documents/LiveCampus/DBA/Projet-DBA-MDV/part_4_3.ipynb#W0sZmlsZQ%3D%3D?line=41'>42</a>\u001b[0m \u001b[39mfor\u001b[39;00m n \u001b[39min\u001b[39;00m [\u001b[39m100\u001b[39m, \u001b[39m1000\u001b[39m, \u001b[39m10000\u001b[39m]:\n\u001b[0;32m     <a href='vscode-notebook-cell:/c%3A/Users/aymer/Documents/LiveCampus/DBA/Projet-DBA-MDV/part_4_3.ipynb#W0sZmlsZQ%3D%3D?line=42'>43</a>\u001b[0m     times_with_trigger[n] \u001b[39m=\u001b[39m update_usernames_with_trigger(n)\n\u001b[1;32m---> <a href='vscode-notebook-cell:/c%3A/Users/aymer/Documents/LiveCampus/DBA/Projet-DBA-MDV/part_4_3.ipynb#W0sZmlsZQ%3D%3D?line=43'>44</a>\u001b[0m     times_manually[n] \u001b[39m=\u001b[39m update_usernames_manually(n)\n\u001b[0;32m     <a href='vscode-notebook-cell:/c%3A/Users/aymer/Documents/LiveCampus/DBA/Projet-DBA-MDV/part_4_3.ipynb#W0sZmlsZQ%3D%3D?line=45'>46</a>\u001b[0m \u001b[39m# Afficher les résultats\u001b[39;00m\n\u001b[0;32m     <a href='vscode-notebook-cell:/c%3A/Users/aymer/Documents/LiveCampus/DBA/Projet-DBA-MDV/part_4_3.ipynb#W0sZmlsZQ%3D%3D?line=46'>47</a>\u001b[0m \u001b[39mprint\u001b[39m(\u001b[39m\"\u001b[39m\u001b[39mExecution times with trigger:\u001b[39m\u001b[39m\"\u001b[39m, times_with_trigger)\n",
      "\u001b[1;32mc:\\Users\\aymer\\Documents\\LiveCampus\\DBA\\Projet-DBA-MDV\\part_4_3.ipynb Cell 1\u001b[0m line \u001b[0;36m3\n\u001b[0;32m     <a href='vscode-notebook-cell:/c%3A/Users/aymer/Documents/LiveCampus/DBA/Projet-DBA-MDV/part_4_3.ipynb#W0sZmlsZQ%3D%3D?line=31'>32</a>\u001b[0m     new_username \u001b[39m=\u001b[39m \u001b[39mf\u001b[39m\u001b[39m\"\u001b[39m\u001b[39muser_manual_\u001b[39m\u001b[39m{\u001b[39;00mi\u001b[39m:\u001b[39;00m\u001b[39m07d\u001b[39m\u001b[39m}\u001b[39;00m\u001b[39m\"\u001b[39m\n\u001b[0;32m     <a href='vscode-notebook-cell:/c%3A/Users/aymer/Documents/LiveCampus/DBA/Projet-DBA-MDV/part_4_3.ipynb#W0sZmlsZQ%3D%3D?line=32'>33</a>\u001b[0m     cur\u001b[39m.\u001b[39mexecute(\u001b[39m\"\u001b[39m\u001b[39mUPDATE user_table SET username = \u001b[39m\u001b[39m%s\u001b[39;00m\u001b[39m WHERE user_id = \u001b[39m\u001b[39m%s\u001b[39;00m\u001b[39m\"\u001b[39m, (new_username, i))\n\u001b[1;32m---> <a href='vscode-notebook-cell:/c%3A/Users/aymer/Documents/LiveCampus/DBA/Projet-DBA-MDV/part_4_3.ipynb#W0sZmlsZQ%3D%3D?line=33'>34</a>\u001b[0m     cur\u001b[39m.\u001b[39;49mexecute(\u001b[39m\"\u001b[39;49m\u001b[39mINSERT INTO username_history_from_app (user_id, username_new) VALUES (\u001b[39;49m\u001b[39m%s\u001b[39;49;00m\u001b[39m, \u001b[39;49m\u001b[39m%s\u001b[39;49;00m\u001b[39m)\u001b[39;49m\u001b[39m\"\u001b[39;49m, (i, new_username))\n\u001b[0;32m     <a href='vscode-notebook-cell:/c%3A/Users/aymer/Documents/LiveCampus/DBA/Projet-DBA-MDV/part_4_3.ipynb#W0sZmlsZQ%3D%3D?line=34'>35</a>\u001b[0m conn\u001b[39m.\u001b[39mcommit()\n\u001b[0;32m     <a href='vscode-notebook-cell:/c%3A/Users/aymer/Documents/LiveCampus/DBA/Projet-DBA-MDV/part_4_3.ipynb#W0sZmlsZQ%3D%3D?line=35'>36</a>\u001b[0m end_time \u001b[39m=\u001b[39m time\u001b[39m.\u001b[39mtime()\n",
      "\u001b[1;31mForeignKeyViolation\u001b[0m: ERREUR:  une instruction insert ou update sur la table « username_history_from_app » viole la contrainte de clé\nétrangère « username_history_from_app_user_id_fkey »\nDETAIL:  La clé (user_id)=(101) n'est pas présente dans la table « user_table ».\n"
     ]
    }
   ],
   "source": [
    "import psycopg2\n",
    "import time\n",
    "import os\n",
    "from dotenv import load_dotenv\n",
    "\n",
    "# Charger les variables d'environnement\n",
    "load_dotenv(\".env\")\n",
    "\n",
    "USER = os.environ.get(\"POSTGRESQL_LOCAL_USER\")\n",
    "PASSWORD = os.environ.get(\"POSTGRESQL_LOCAL_PASSWORD\")\n",
    "\n",
    "# Connexion à la base de données PostgreSQL\n",
    "conn = psycopg2.connect(user=USER, password=PASSWORD, host=\"localhost\", port=\"5432\", dbname=\"app_auth\")\n",
    "cur = conn.cursor()\n",
    "\n",
    "# Récupérer le nombre total d'utilisateurs dans user_table\n",
    "cur.execute(\"SELECT COUNT(*) FROM user_table\")\n",
    "total_users = cur.fetchone()[0]\n",
    "\n",
    "# Fonction pour mettre à jour les usernames avec trigger\n",
    "def update_usernames_with_trigger(n):\n",
    "    start_time = time.time()\n",
    "    for i in range(1, min(n, total_users) + 1):\n",
    "        new_username = f\"user_trigger_{i:07d}\"\n",
    "        cur.execute(\"UPDATE user_table SET username = %s WHERE user_id = %s\", (new_username, i))\n",
    "    conn.commit()\n",
    "    end_time = time.time()\n",
    "    return end_time - start_time\n",
    "\n",
    "# Fonction pour mettre à jour les usernames manuellement et enregistrer dans username_history_from_app\n",
    "def update_usernames_manually(n):\n",
    "    start_time = time.time()\n",
    "    for i in range(1, min(n, total_users) + 1):\n",
    "        new_username = f\"user_manual_{i:07d}\"\n",
    "        cur.execute(\"UPDATE user_table SET username = %s WHERE user_id = %s\", (new_username, i))\n",
    "        cur.execute(\"INSERT INTO username_history_from_app (user_id, username_new) VALUES (%s, %s)\", (i, new_username))\n",
    "    conn.commit()\n",
    "    end_time = time.time()\n",
    "    return end_time - start_time\n",
    "\n",
    "# Comparer les temps d'exécution pour 100, 1000 et 10000 mises à jour\n",
    "times_with_trigger = {n: update_usernames_with_trigger(n) for n in [100, 1000, 10000]}\n",
    "times_manually = {n: update_usernames_manually(n) for n in [100, 1000, 10000]}\n",
    "\n",
    "# Afficher les résultats\n",
    "print(\"Temps d'exécution avec Trigger:\", times_with_trigger)\n",
    "print(\"Temps d'exécution avec Mise à jour Manuelle:\", times_manually)\n",
    "\n",
    "# Fermer la connexion\n",
    "cur.close()\n",
    "conn.close()\n"
   ]
  }
 ],
 "metadata": {
  "kernelspec": {
   "display_name": "venv",
   "language": "python",
   "name": "python3"
  },
  "language_info": {
   "codemirror_mode": {
    "name": "ipython",
    "version": 3
   },
   "file_extension": ".py",
   "mimetype": "text/x-python",
   "name": "python",
   "nbconvert_exporter": "python",
   "pygments_lexer": "ipython3",
   "version": "3.11.2"
  }
 },
 "nbformat": 4,
 "nbformat_minor": 2
}
