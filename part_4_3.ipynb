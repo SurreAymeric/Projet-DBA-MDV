{
 "cells": [
  {
   "cell_type": "code",
   "execution_count": 17,
   "metadata": {},
   "outputs": [
    {
     "name": "stdout",
     "output_type": "stream",
     "text": [
      "Temps d'exécution avec Trigger: {100: 0.08636021614074707, 1000: 0.06956171989440918, 10000: 0.040764570236206055}\n",
      "Temps d'exécution avec Mise à jour Manuelle: {100: 0.06727457046508789, 1000: 0.07913517951965332, 10000: 0.07561302185058594}\n"
     ]
    }
   ],
   "source": [
    "import psycopg2\n",
    "import time\n",
    "import os\n",
    "from dotenv import load_dotenv\n",
    "\n",
    "# Charger les variables d'environnement\n",
    "load_dotenv(\".env\")\n",
    "\n",
    "USER = os.environ.get(\"POSTGRESQL_LOCAL_USER\")\n",
    "PASSWORD = os.environ.get(\"POSTGRESQL_LOCAL_PASSWORD\")\n",
    "\n",
    "# Connexion à la base de données PostgreSQL\n",
    "conn = psycopg2.connect(user=USER, password=PASSWORD, host=\"localhost\", port=\"5432\", dbname=\"app_auth\")\n",
    "cur = conn.cursor()\n",
    "\n",
    "# Création de la table username_history_from_app\n",
    "cur.execute(\"\"\"\n",
    "CREATE TABLE IF NOT EXISTS username_history_from_app (\n",
    "    username_history_id SERIAL PRIMARY KEY,\n",
    "    user_id INT NOT NULL,\n",
    "    username_new VARCHAR(255) NOT NULL,\n",
    "    FOREIGN KEY (user_id) REFERENCES user_table(user_id)\n",
    ");\n",
    "\"\"\")\n",
    "\n",
    "# Récupérer le nombre total d'utilisateurs dans user_table\n",
    "cur.execute(\"SELECT COUNT(*) FROM user_table\")\n",
    "total_users = cur.fetchone()[0]\n",
    "\n",
    "# Fonction pour mettre à jour les usernames avec trigger\n",
    "def update_usernames_with_trigger(n):\n",
    "    start_time = time.time()\n",
    "    for i in range(1, min(n, total_users) + 1):\n",
    "        new_username = f\"user_trigger_{i:07d}\"\n",
    "        cur.execute(\"UPDATE user_table SET username = %s WHERE user_id = %s\", (new_username, i))\n",
    "    conn.commit()\n",
    "    end_time = time.time()\n",
    "    return end_time - start_time\n",
    "\n",
    "# Fonction pour mettre à jour les usernames manuellement et enregistrer dans username_history_from_app\n",
    "def update_usernames_manually(n):\n",
    "    start_time = time.time()\n",
    "    for i in range(1, min(n, total_users) + 1):\n",
    "        new_username = f\"user_manual_{i:07d}\"\n",
    "        cur.execute(\"UPDATE user_table SET username = %s WHERE user_id = %s\", (new_username, i))\n",
    "        cur.execute(\"INSERT INTO username_history_from_app (user_id, username_new) VALUES (%s, %s)\", (i, new_username))\n",
    "    conn.commit()\n",
    "    end_time = time.time()\n",
    "    return end_time - start_time\n",
    "\n",
    "# Comparer les temps d'exécution pour 100, 1000 et 10000 mises à jour\n",
    "times_with_trigger = {n: update_usernames_with_trigger(n) for n in [100, 1000, 10000]}\n",
    "times_manually = {n: update_usernames_manually(n) for n in [100, 1000, 10000]}\n",
    "\n",
    "# Afficher les résultats\n",
    "print(\"Temps d'exécution avec Trigger:\", times_with_trigger)\n",
    "print(\"Temps d'exécution avec Mise à jour Manuelle:\", times_manually)\n",
    "\n",
    "# Fermer la connexion\n",
    "cur.close()\n",
    "conn.close()\n"
   ]
  }
 ],
 "metadata": {
  "kernelspec": {
   "display_name": "venv",
   "language": "python",
   "name": "python3"
  },
  "language_info": {
   "codemirror_mode": {
    "name": "ipython",
    "version": 3
   },
   "file_extension": ".py",
   "mimetype": "text/x-python",
   "name": "python",
   "nbconvert_exporter": "python",
   "pygments_lexer": "ipython3",
   "version": "3.11.2"
  }
 },
 "nbformat": 4,
 "nbformat_minor": 2
}
